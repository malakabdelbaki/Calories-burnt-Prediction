{
 "cells": [
  {
   "cell_type": "markdown",
   "source": [],
   "metadata": {
    "collapsed": false
   },
   "id": "4c525557cd9ed27b"
  },
  {
   "cell_type": "code",
   "execution_count": 1,
   "id": "initial_id",
   "metadata": {
    "collapsed": true,
    "ExecuteTime": {
     "end_time": "2024-01-24T12:30:51.027489200Z",
     "start_time": "2024-01-24T12:30:50.609931700Z"
    }
   },
   "outputs": [],
   "source": [
    "import pandas as pd\n",
    "import numpy as np\n",
    "import matplotlib.pyplot as plt\n",
    "import seaborn as sns\n",
    "from sklearn.model_selection import train_test_split\n",
    "from sklearn import metrics\n",
    "from xgboost import XGBRegressor"
   ]
  },
  {
   "cell_type": "markdown",
   "source": [
    "Data Collection and Analysis"
   ],
   "metadata": {
    "collapsed": false
   },
   "id": "792bd748864bde5f"
  },
  {
   "cell_type": "code",
   "execution_count": 2,
   "outputs": [],
   "source": [
    "#loading data from dataset\n",
    "Calories=pd.read_csv('data/calories.csv')"
   ],
   "metadata": {
    "collapsed": false,
    "ExecuteTime": {
     "end_time": "2024-01-24T12:32:30.165542300Z",
     "start_time": "2024-01-24T12:32:30.116874100Z"
    }
   },
   "id": "1cbaf72d94c2e099"
  },
  {
   "cell_type": "code",
   "execution_count": 3,
   "outputs": [
    {
     "data": {
      "text/plain": "    User_ID  Calories\n0  14733363     231.0\n1  14861698      66.0\n2  11179863      26.0\n3  16180408      71.0\n4  17771927      35.0",
      "text/html": "<div>\n<style scoped>\n    .dataframe tbody tr th:only-of-type {\n        vertical-align: middle;\n    }\n\n    .dataframe tbody tr th {\n        vertical-align: top;\n    }\n\n    .dataframe thead th {\n        text-align: right;\n    }\n</style>\n<table border=\"1\" class=\"dataframe\">\n  <thead>\n    <tr style=\"text-align: right;\">\n      <th></th>\n      <th>User_ID</th>\n      <th>Calories</th>\n    </tr>\n  </thead>\n  <tbody>\n    <tr>\n      <th>0</th>\n      <td>14733363</td>\n      <td>231.0</td>\n    </tr>\n    <tr>\n      <th>1</th>\n      <td>14861698</td>\n      <td>66.0</td>\n    </tr>\n    <tr>\n      <th>2</th>\n      <td>11179863</td>\n      <td>26.0</td>\n    </tr>\n    <tr>\n      <th>3</th>\n      <td>16180408</td>\n      <td>71.0</td>\n    </tr>\n    <tr>\n      <th>4</th>\n      <td>17771927</td>\n      <td>35.0</td>\n    </tr>\n  </tbody>\n</table>\n</div>"
     },
     "execution_count": 3,
     "metadata": {},
     "output_type": "execute_result"
    }
   ],
   "source": [
    "Calories.head()"
   ],
   "metadata": {
    "collapsed": false,
    "ExecuteTime": {
     "end_time": "2024-01-24T12:32:30.874262600Z",
     "start_time": "2024-01-24T12:32:30.774983Z"
    }
   },
   "id": "a0e9dde8bc339ff"
  },
  {
   "cell_type": "code",
   "execution_count": 4,
   "outputs": [],
   "source": [
    "Exercise=pd.read_csv('data/exercise.csv')"
   ],
   "metadata": {
    "collapsed": false,
    "ExecuteTime": {
     "end_time": "2024-01-24T12:32:31.636353300Z",
     "start_time": "2024-01-24T12:32:31.598768600Z"
    }
   },
   "id": "b89e7d5a95cf2639"
  },
  {
   "cell_type": "code",
   "execution_count": 5,
   "outputs": [
    {
     "data": {
      "text/plain": "    User_ID  Gender  Age  Height  Weight  Duration  Heart_Rate  Body_Temp\n0  14733363    male   68   190.0    94.0      29.0       105.0       40.8\n1  14861698  female   20   166.0    60.0      14.0        94.0       40.3\n2  11179863    male   69   179.0    79.0       5.0        88.0       38.7\n3  16180408  female   34   179.0    71.0      13.0       100.0       40.5\n4  17771927  female   27   154.0    58.0      10.0        81.0       39.8",
      "text/html": "<div>\n<style scoped>\n    .dataframe tbody tr th:only-of-type {\n        vertical-align: middle;\n    }\n\n    .dataframe tbody tr th {\n        vertical-align: top;\n    }\n\n    .dataframe thead th {\n        text-align: right;\n    }\n</style>\n<table border=\"1\" class=\"dataframe\">\n  <thead>\n    <tr style=\"text-align: right;\">\n      <th></th>\n      <th>User_ID</th>\n      <th>Gender</th>\n      <th>Age</th>\n      <th>Height</th>\n      <th>Weight</th>\n      <th>Duration</th>\n      <th>Heart_Rate</th>\n      <th>Body_Temp</th>\n    </tr>\n  </thead>\n  <tbody>\n    <tr>\n      <th>0</th>\n      <td>14733363</td>\n      <td>male</td>\n      <td>68</td>\n      <td>190.0</td>\n      <td>94.0</td>\n      <td>29.0</td>\n      <td>105.0</td>\n      <td>40.8</td>\n    </tr>\n    <tr>\n      <th>1</th>\n      <td>14861698</td>\n      <td>female</td>\n      <td>20</td>\n      <td>166.0</td>\n      <td>60.0</td>\n      <td>14.0</td>\n      <td>94.0</td>\n      <td>40.3</td>\n    </tr>\n    <tr>\n      <th>2</th>\n      <td>11179863</td>\n      <td>male</td>\n      <td>69</td>\n      <td>179.0</td>\n      <td>79.0</td>\n      <td>5.0</td>\n      <td>88.0</td>\n      <td>38.7</td>\n    </tr>\n    <tr>\n      <th>3</th>\n      <td>16180408</td>\n      <td>female</td>\n      <td>34</td>\n      <td>179.0</td>\n      <td>71.0</td>\n      <td>13.0</td>\n      <td>100.0</td>\n      <td>40.5</td>\n    </tr>\n    <tr>\n      <th>4</th>\n      <td>17771927</td>\n      <td>female</td>\n      <td>27</td>\n      <td>154.0</td>\n      <td>58.0</td>\n      <td>10.0</td>\n      <td>81.0</td>\n      <td>39.8</td>\n    </tr>\n  </tbody>\n</table>\n</div>"
     },
     "execution_count": 5,
     "metadata": {},
     "output_type": "execute_result"
    }
   ],
   "source": [
    "Exercise.head()"
   ],
   "metadata": {
    "collapsed": false,
    "ExecuteTime": {
     "end_time": "2024-01-24T12:32:32.464113200Z",
     "start_time": "2024-01-24T12:32:32.425919200Z"
    }
   },
   "id": "e45e044b6a46341f"
  },
  {
   "cell_type": "markdown",
   "source": [
    "Combine Dataframes"
   ],
   "metadata": {
    "collapsed": false
   },
   "id": "cbb1f6eaa615767b"
  },
  {
   "cell_type": "code",
   "execution_count": 7,
   "outputs": [],
   "source": [
    "calories_data = pd.concat([Exercise,Calories['Calories']], axis=1)"
   ],
   "metadata": {
    "collapsed": false,
    "ExecuteTime": {
     "end_time": "2024-01-24T12:34:24.423270800Z",
     "start_time": "2024-01-24T12:34:24.399124500Z"
    }
   },
   "id": "91d609ddd6c34765"
  },
  {
   "cell_type": "code",
   "execution_count": 8,
   "outputs": [
    {
     "data": {
      "text/plain": "    User_ID  Gender  Age  Height  Weight  Duration  Heart_Rate  Body_Temp  \\\n0  14733363    male   68   190.0    94.0      29.0       105.0       40.8   \n1  14861698  female   20   166.0    60.0      14.0        94.0       40.3   \n2  11179863    male   69   179.0    79.0       5.0        88.0       38.7   \n3  16180408  female   34   179.0    71.0      13.0       100.0       40.5   \n4  17771927  female   27   154.0    58.0      10.0        81.0       39.8   \n\n   Calories  \n0     231.0  \n1      66.0  \n2      26.0  \n3      71.0  \n4      35.0  ",
      "text/html": "<div>\n<style scoped>\n    .dataframe tbody tr th:only-of-type {\n        vertical-align: middle;\n    }\n\n    .dataframe tbody tr th {\n        vertical-align: top;\n    }\n\n    .dataframe thead th {\n        text-align: right;\n    }\n</style>\n<table border=\"1\" class=\"dataframe\">\n  <thead>\n    <tr style=\"text-align: right;\">\n      <th></th>\n      <th>User_ID</th>\n      <th>Gender</th>\n      <th>Age</th>\n      <th>Height</th>\n      <th>Weight</th>\n      <th>Duration</th>\n      <th>Heart_Rate</th>\n      <th>Body_Temp</th>\n      <th>Calories</th>\n    </tr>\n  </thead>\n  <tbody>\n    <tr>\n      <th>0</th>\n      <td>14733363</td>\n      <td>male</td>\n      <td>68</td>\n      <td>190.0</td>\n      <td>94.0</td>\n      <td>29.0</td>\n      <td>105.0</td>\n      <td>40.8</td>\n      <td>231.0</td>\n    </tr>\n    <tr>\n      <th>1</th>\n      <td>14861698</td>\n      <td>female</td>\n      <td>20</td>\n      <td>166.0</td>\n      <td>60.0</td>\n      <td>14.0</td>\n      <td>94.0</td>\n      <td>40.3</td>\n      <td>66.0</td>\n    </tr>\n    <tr>\n      <th>2</th>\n      <td>11179863</td>\n      <td>male</td>\n      <td>69</td>\n      <td>179.0</td>\n      <td>79.0</td>\n      <td>5.0</td>\n      <td>88.0</td>\n      <td>38.7</td>\n      <td>26.0</td>\n    </tr>\n    <tr>\n      <th>3</th>\n      <td>16180408</td>\n      <td>female</td>\n      <td>34</td>\n      <td>179.0</td>\n      <td>71.0</td>\n      <td>13.0</td>\n      <td>100.0</td>\n      <td>40.5</td>\n      <td>71.0</td>\n    </tr>\n    <tr>\n      <th>4</th>\n      <td>17771927</td>\n      <td>female</td>\n      <td>27</td>\n      <td>154.0</td>\n      <td>58.0</td>\n      <td>10.0</td>\n      <td>81.0</td>\n      <td>39.8</td>\n      <td>35.0</td>\n    </tr>\n  </tbody>\n</table>\n</div>"
     },
     "execution_count": 8,
     "metadata": {},
     "output_type": "execute_result"
    }
   ],
   "source": [
    "calories_data.head()"
   ],
   "metadata": {
    "collapsed": false,
    "ExecuteTime": {
     "end_time": "2024-01-24T12:34:46.047343700Z",
     "start_time": "2024-01-24T12:34:46.028832600Z"
    }
   },
   "id": "ebd49242e8a24fc8"
  },
  {
   "cell_type": "code",
   "execution_count": 9,
   "outputs": [
    {
     "name": "stdout",
     "output_type": "stream",
     "text": [
      "<class 'pandas.core.frame.DataFrame'>\n",
      "RangeIndex: 15000 entries, 0 to 14999\n",
      "Data columns (total 9 columns):\n",
      " #   Column      Non-Null Count  Dtype  \n",
      "---  ------      --------------  -----  \n",
      " 0   User_ID     15000 non-null  int64  \n",
      " 1   Gender      15000 non-null  object \n",
      " 2   Age         15000 non-null  int64  \n",
      " 3   Height      15000 non-null  float64\n",
      " 4   Weight      15000 non-null  float64\n",
      " 5   Duration    15000 non-null  float64\n",
      " 6   Heart_Rate  15000 non-null  float64\n",
      " 7   Body_Temp   15000 non-null  float64\n",
      " 8   Calories    15000 non-null  float64\n",
      "dtypes: float64(6), int64(2), object(1)\n",
      "memory usage: 1.0+ MB\n"
     ]
    }
   ],
   "source": [
    "calories_data.info()"
   ],
   "metadata": {
    "collapsed": false,
    "ExecuteTime": {
     "end_time": "2024-01-24T12:34:55.672018Z",
     "start_time": "2024-01-24T12:34:55.645065500Z"
    }
   },
   "id": "f34242c3bdbc5307"
  },
  {
   "cell_type": "code",
   "execution_count": 10,
   "outputs": [
    {
     "data": {
      "text/plain": "(15000, 9)"
     },
     "execution_count": 10,
     "metadata": {},
     "output_type": "execute_result"
    }
   ],
   "source": [
    "calories_data.shape"
   ],
   "metadata": {
    "collapsed": false,
    "ExecuteTime": {
     "end_time": "2024-01-24T12:35:14.490848800Z",
     "start_time": "2024-01-24T12:35:14.440721100Z"
    }
   },
   "id": "a90455ea157bbbfd"
  },
  {
   "cell_type": "code",
   "execution_count": 11,
   "outputs": [
    {
     "data": {
      "text/plain": "User_ID       0\nGender        0\nAge           0\nHeight        0\nWeight        0\nDuration      0\nHeart_Rate    0\nBody_Temp     0\nCalories      0\ndtype: int64"
     },
     "execution_count": 11,
     "metadata": {},
     "output_type": "execute_result"
    }
   ],
   "source": [
    "calories_data.isnull().sum()"
   ],
   "metadata": {
    "collapsed": false,
    "ExecuteTime": {
     "end_time": "2024-01-24T12:35:15.863333Z",
     "start_time": "2024-01-24T12:35:15.819238200Z"
    }
   },
   "id": "a02222474e4727ab"
  },
  {
   "cell_type": "markdown",
   "source": [
    "Data Analysis\n"
   ],
   "metadata": {
    "collapsed": false
   },
   "id": "5d7511287c9da4ee"
  },
  {
   "cell_type": "code",
   "execution_count": 12,
   "outputs": [
    {
     "data": {
      "text/plain": "            User_ID           Age        Height        Weight      Duration  \\\ncount  1.500000e+04  15000.000000  15000.000000  15000.000000  15000.000000   \nmean   1.497736e+07     42.789800    174.465133     74.966867     15.530600   \nstd    2.872851e+06     16.980264     14.258114     15.035657      8.319203   \nmin    1.000116e+07     20.000000    123.000000     36.000000      1.000000   \n25%    1.247419e+07     28.000000    164.000000     63.000000      8.000000   \n50%    1.499728e+07     39.000000    175.000000     74.000000     16.000000   \n75%    1.744928e+07     56.000000    185.000000     87.000000     23.000000   \nmax    1.999965e+07     79.000000    222.000000    132.000000     30.000000   \n\n         Heart_Rate     Body_Temp      Calories  \ncount  15000.000000  15000.000000  15000.000000  \nmean      95.518533     40.025453     89.539533  \nstd        9.583328      0.779230     62.456978  \nmin       67.000000     37.100000      1.000000  \n25%       88.000000     39.600000     35.000000  \n50%       96.000000     40.200000     79.000000  \n75%      103.000000     40.600000    138.000000  \nmax      128.000000     41.500000    314.000000  ",
      "text/html": "<div>\n<style scoped>\n    .dataframe tbody tr th:only-of-type {\n        vertical-align: middle;\n    }\n\n    .dataframe tbody tr th {\n        vertical-align: top;\n    }\n\n    .dataframe thead th {\n        text-align: right;\n    }\n</style>\n<table border=\"1\" class=\"dataframe\">\n  <thead>\n    <tr style=\"text-align: right;\">\n      <th></th>\n      <th>User_ID</th>\n      <th>Age</th>\n      <th>Height</th>\n      <th>Weight</th>\n      <th>Duration</th>\n      <th>Heart_Rate</th>\n      <th>Body_Temp</th>\n      <th>Calories</th>\n    </tr>\n  </thead>\n  <tbody>\n    <tr>\n      <th>count</th>\n      <td>1.500000e+04</td>\n      <td>15000.000000</td>\n      <td>15000.000000</td>\n      <td>15000.000000</td>\n      <td>15000.000000</td>\n      <td>15000.000000</td>\n      <td>15000.000000</td>\n      <td>15000.000000</td>\n    </tr>\n    <tr>\n      <th>mean</th>\n      <td>1.497736e+07</td>\n      <td>42.789800</td>\n      <td>174.465133</td>\n      <td>74.966867</td>\n      <td>15.530600</td>\n      <td>95.518533</td>\n      <td>40.025453</td>\n      <td>89.539533</td>\n    </tr>\n    <tr>\n      <th>std</th>\n      <td>2.872851e+06</td>\n      <td>16.980264</td>\n      <td>14.258114</td>\n      <td>15.035657</td>\n      <td>8.319203</td>\n      <td>9.583328</td>\n      <td>0.779230</td>\n      <td>62.456978</td>\n    </tr>\n    <tr>\n      <th>min</th>\n      <td>1.000116e+07</td>\n      <td>20.000000</td>\n      <td>123.000000</td>\n      <td>36.000000</td>\n      <td>1.000000</td>\n      <td>67.000000</td>\n      <td>37.100000</td>\n      <td>1.000000</td>\n    </tr>\n    <tr>\n      <th>25%</th>\n      <td>1.247419e+07</td>\n      <td>28.000000</td>\n      <td>164.000000</td>\n      <td>63.000000</td>\n      <td>8.000000</td>\n      <td>88.000000</td>\n      <td>39.600000</td>\n      <td>35.000000</td>\n    </tr>\n    <tr>\n      <th>50%</th>\n      <td>1.499728e+07</td>\n      <td>39.000000</td>\n      <td>175.000000</td>\n      <td>74.000000</td>\n      <td>16.000000</td>\n      <td>96.000000</td>\n      <td>40.200000</td>\n      <td>79.000000</td>\n    </tr>\n    <tr>\n      <th>75%</th>\n      <td>1.744928e+07</td>\n      <td>56.000000</td>\n      <td>185.000000</td>\n      <td>87.000000</td>\n      <td>23.000000</td>\n      <td>103.000000</td>\n      <td>40.600000</td>\n      <td>138.000000</td>\n    </tr>\n    <tr>\n      <th>max</th>\n      <td>1.999965e+07</td>\n      <td>79.000000</td>\n      <td>222.000000</td>\n      <td>132.000000</td>\n      <td>30.000000</td>\n      <td>128.000000</td>\n      <td>41.500000</td>\n      <td>314.000000</td>\n    </tr>\n  </tbody>\n</table>\n</div>"
     },
     "execution_count": 12,
     "metadata": {},
     "output_type": "execute_result"
    }
   ],
   "source": [
    "calories_data.describe()"
   ],
   "metadata": {
    "collapsed": false,
    "ExecuteTime": {
     "end_time": "2024-01-24T12:36:13.769291800Z",
     "start_time": "2024-01-24T12:36:13.698346700Z"
    }
   },
   "id": "fabe0118e01b59ef"
  },
  {
   "cell_type": "code",
   "execution_count": 13,
   "outputs": [],
   "source": [
    "sns.set()"
   ],
   "metadata": {
    "collapsed": false,
    "ExecuteTime": {
     "end_time": "2024-01-24T12:36:41.843611Z",
     "start_time": "2024-01-24T12:36:41.815450800Z"
    }
   },
   "id": "8af1a986876a7154"
  },
  {
   "cell_type": "code",
   "execution_count": 15,
   "outputs": [
    {
     "data": {
      "text/plain": "<Axes: xlabel='Gender', ylabel='count'>"
     },
     "execution_count": 15,
     "metadata": {},
     "output_type": "execute_result"
    },
    {
     "data": {
      "text/plain": "<Figure size 640x480 with 1 Axes>",
      "image/png": "[encoded data removed]"
     },
     "metadata": {},
     "output_type": "display_data"
    }
   ],
   "source": [
    "# gender column\n",
    "sns.countplot(x = 'Gender', data = calories_data)"
   ],
   "metadata": {
    "collapsed": false,
    "ExecuteTime": {
     "end_time": "2024-01-24T12:37:47.079950Z",
     "start_time": "2024-01-24T12:37:46.931051800Z"
    }
   },
   "id": "8265c125bafd0383"
  },
  {
   "cell_type": "code",
   "execution_count": 16,
   "outputs": [
    {
     "data": {
      "text/plain": "female    7553\nmale      7447\nName: Gender, dtype: int64"
     },
     "execution_count": 16,
     "metadata": {},
     "output_type": "execute_result"
    }
   ],
   "source": [
    "calories_data['Gender'].value_counts()"
   ],
   "metadata": {
    "collapsed": false,
    "ExecuteTime": {
     "end_time": "2024-01-24T12:38:08.635118900Z",
     "start_time": "2024-01-24T12:38:08.589894100Z"
    }
   },
   "id": "f4ea329d55b0b11b"
  },
  {
   "cell_type": "code",
   "execution_count": 17,
   "outputs": [
    {
     "data": {
      "text/plain": "Text(0.5, 1.0, 'Age distribution')"
     },
     "execution_count": 17,
     "metadata": {},
     "output_type": "execute_result"
    },
    {
     "data": {
      "text/plain": "<Figure size 500x500 with 1 Axes>",
      "image/png": "[encoded data removed]"
     },
     "metadata": {},
     "output_type": "display_data"
    }
   ],
   "source": [
    "# age distribution\n",
    "sns.displot(calories_data['Age'])\n",
    "plt.title('Age distribution')"
   ],
   "metadata": {
    "collapsed": false,
    "ExecuteTime": {
     "end_time": "2024-01-24T12:38:50.048911100Z",
     "start_time": "2024-01-24T12:38:49.670487200Z"
    }
   },
   "id": "93678fa2d5ff402a"
  },
  {
   "cell_type": "code",
   "execution_count": 20,
   "outputs": [
    {
     "data": {
      "text/plain": "Text(0.5, 1.0, 'Height distribution')"
     },
     "execution_count": 20,
     "metadata": {},
     "output_type": "execute_result"
    },
    {
     "data": {
      "text/plain": "<Figure size 500x500 with 1 Axes>",
      "image/png": "[encoded data removed]"
     },
     "metadata": {},
     "output_type": "display_data"
    }
   ],
   "source": [
    "# height distribution\n",
    "sns.displot(calories_data['Height'])\n",
    "plt.title('Height distribution')"
   ],
   "metadata": {
    "collapsed": false,
    "ExecuteTime": {
     "end_time": "2024-01-24T12:40:16.047624100Z",
     "start_time": "2024-01-24T12:40:15.553922Z"
    }
   },
   "id": "58cebd5eb923ef21"
  },
  {
   "cell_type": "code",
   "execution_count": 46,
   "outputs": [],
   "source": [
    "calories_data.replace({'Gender':{'male': 0, 'female': 1}}, inplace = True)\n"
   ],
   "metadata": {
    "collapsed": false,
    "ExecuteTime": {
     "end_time": "2024-01-24T13:03:33.105224600Z",
     "start_time": "2024-01-24T13:03:33.076465100Z"
    }
   },
   "id": "4c3f5ebe6ea4828c"
  },
  {
   "cell_type": "markdown",
   "source": [
    "Finding correlation in the dataset"
   ],
   "metadata": {
    "collapsed": false
   },
   "id": "f654c6e7430a79d3"
  },
  {
   "cell_type": "code",
   "execution_count": 22,
   "outputs": [
    {
     "name": "stderr",
     "output_type": "stream",
     "text": [
      "C:\\Users\\malak\\AppData\\Local\\Temp\\ipykernel_27112\\2116840754.py:1: FutureWarning: The default value of numeric_only in DataFrame.corr is deprecated. In a future version, it will default to False. Select only valid columns or specify the value of numeric_only to silence this warning.\n",
      "  correlation = calories_data.corr()\n"
     ]
    }
   ],
   "source": [
    "correlation = calories_data.corr()"
   ],
   "metadata": {
    "collapsed": false,
    "ExecuteTime": {
     "end_time": "2024-01-24T12:43:38.386734Z",
     "start_time": "2024-01-24T12:43:38.342771200Z"
    }
   },
   "id": "6b3faf9dc2860d9"
  },
  {
   "cell_type": "code",
   "execution_count": 23,
   "outputs": [
    {
     "data": {
      "text/plain": "<Axes: >"
     },
     "execution_count": 23,
     "metadata": {},
     "output_type": "execute_result"
    },
    {
     "data": {
      "text/plain": "<Figure size 1000x1000 with 2 Axes>",
      "image/png": "[encoded data removed]"
     },
     "metadata": {},
     "output_type": "display_data"
    }
   ],
   "source": [
    "#construct heat map to understand correlation\n",
    "plt.figure(figsize=(10,10))\n",
    "sns.heatmap(correlation, cbar = True, square=True, fmt = '.1f', annot=True, annot_kws={'size':8})"
   ],
   "metadata": {
    "collapsed": false,
    "ExecuteTime": {
     "end_time": "2024-01-24T12:43:40.292009Z",
     "start_time": "2024-01-24T12:43:39.924284400Z"
    }
   },
   "id": "8a4bfa3804890a0e"
  },
  {
   "cell_type": "markdown",
   "source": [],
   "metadata": {
    "collapsed": false
   },
   "id": "2730afaabf0e2799"
  },
  {
   "cell_type": "code",
   "execution_count": 35,
   "outputs": [
    {
     "data": {
      "text/plain": "    User_ID  Gender  Age  Height  Weight  Duration  Heart_Rate  Body_Temp  \\\n0  14733363       0   68   190.0    94.0      29.0       105.0       40.8   \n1  14861698       1   20   166.0    60.0      14.0        94.0       40.3   \n2  11179863       0   69   179.0    79.0       5.0        88.0       38.7   \n3  16180408       1   34   179.0    71.0      13.0       100.0       40.5   \n4  17771927       1   27   154.0    58.0      10.0        81.0       39.8   \n\n   Calories  \n0     231.0  \n1      66.0  \n2      26.0  \n3      71.0  \n4      35.0  ",
      "text/html": "<div>\n<style scoped>\n    .dataframe tbody tr th:only-of-type {\n        vertical-align: middle;\n    }\n\n    .dataframe tbody tr th {\n        vertical-align: top;\n    }\n\n    .dataframe thead th {\n        text-align: right;\n    }\n</style>\n<table border=\"1\" class=\"dataframe\">\n  <thead>\n    <tr style=\"text-align: right;\">\n      <th></th>\n      <th>User_ID</th>\n      <th>Gender</th>\n      <th>Age</th>\n      <th>Height</th>\n      <th>Weight</th>\n      <th>Duration</th>\n      <th>Heart_Rate</th>\n      <th>Body_Temp</th>\n      <th>Calories</th>\n    </tr>\n  </thead>\n  <tbody>\n    <tr>\n      <th>0</th>\n      <td>14733363</td>\n      <td>0</td>\n      <td>68</td>\n      <td>190.0</td>\n      <td>94.0</td>\n      <td>29.0</td>\n      <td>105.0</td>\n      <td>40.8</td>\n      <td>231.0</td>\n    </tr>\n    <tr>\n      <th>1</th>\n      <td>14861698</td>\n      <td>1</td>\n      <td>20</td>\n      <td>166.0</td>\n      <td>60.0</td>\n      <td>14.0</td>\n      <td>94.0</td>\n      <td>40.3</td>\n      <td>66.0</td>\n    </tr>\n    <tr>\n      <th>2</th>\n      <td>11179863</td>\n      <td>0</td>\n      <td>69</td>\n      <td>179.0</td>\n      <td>79.0</td>\n      <td>5.0</td>\n      <td>88.0</td>\n      <td>38.7</td>\n      <td>26.0</td>\n    </tr>\n    <tr>\n      <th>3</th>\n      <td>16180408</td>\n      <td>1</td>\n      <td>34</td>\n      <td>179.0</td>\n      <td>71.0</td>\n      <td>13.0</td>\n      <td>100.0</td>\n      <td>40.5</td>\n      <td>71.0</td>\n    </tr>\n    <tr>\n      <th>4</th>\n      <td>17771927</td>\n      <td>1</td>\n      <td>27</td>\n      <td>154.0</td>\n      <td>58.0</td>\n      <td>10.0</td>\n      <td>81.0</td>\n      <td>39.8</td>\n      <td>35.0</td>\n    </tr>\n  </tbody>\n</table>\n</div>"
     },
     "execution_count": 35,
     "metadata": {},
     "output_type": "execute_result"
    }
   ],
   "source": [
    "calories_data.head()"
   ],
   "metadata": {
    "collapsed": false,
    "ExecuteTime": {
     "end_time": "2024-01-24T12:48:49.448521200Z",
     "start_time": "2024-01-24T12:48:49.381856600Z"
    }
   },
   "id": "433fc76b0058450d"
  },
  {
   "cell_type": "markdown",
   "source": [
    "Splitting features and Target"
   ],
   "metadata": {
    "collapsed": false
   },
   "id": "522d476d876c8275"
  },
  {
   "cell_type": "code",
   "execution_count": 36,
   "outputs": [],
   "source": [
    "X = calories_data.drop(columns=['User_ID','Calories'], axis=1)\n",
    "Y = calories_data['Calories']"
   ],
   "metadata": {
    "collapsed": false,
    "ExecuteTime": {
     "end_time": "2024-01-24T12:48:51.361234600Z",
     "start_time": "2024-01-24T12:48:51.332179100Z"
    }
   },
   "id": "10146761c5a80a4e"
  },
  {
   "cell_type": "code",
   "execution_count": 37,
   "outputs": [
    {
     "name": "stdout",
     "output_type": "stream",
     "text": [
      "       Gender  Age  Height  Weight  Duration  Heart_Rate  Body_Temp\n",
      "0           0   68   190.0    94.0      29.0       105.0       40.8\n",
      "1           1   20   166.0    60.0      14.0        94.0       40.3\n",
      "2           0   69   179.0    79.0       5.0        88.0       38.7\n",
      "3           1   34   179.0    71.0      13.0       100.0       40.5\n",
      "4           1   27   154.0    58.0      10.0        81.0       39.8\n",
      "...       ...  ...     ...     ...       ...         ...        ...\n",
      "14995       1   20   193.0    86.0      11.0        92.0       40.4\n",
      "14996       1   27   165.0    65.0       6.0        85.0       39.2\n",
      "14997       1   43   159.0    58.0      16.0        90.0       40.1\n",
      "14998       0   78   193.0    97.0       2.0        84.0       38.3\n",
      "14999       0   63   173.0    79.0      18.0        92.0       40.5\n",
      "\n",
      "[15000 rows x 7 columns]\n"
     ]
    }
   ],
   "source": [
    "print(X)"
   ],
   "metadata": {
    "collapsed": false,
    "ExecuteTime": {
     "end_time": "2024-01-24T12:48:52.195524Z",
     "start_time": "2024-01-24T12:48:52.174032200Z"
    }
   },
   "id": "fc4aa0ba748e427a"
  },
  {
   "cell_type": "code",
   "execution_count": 38,
   "outputs": [
    {
     "name": "stdout",
     "output_type": "stream",
     "text": [
      "0        231.0\n",
      "1         66.0\n",
      "2         26.0\n",
      "3         71.0\n",
      "4         35.0\n",
      "         ...  \n",
      "14995     45.0\n",
      "14996     23.0\n",
      "14997     75.0\n",
      "14998     11.0\n",
      "14999     98.0\n",
      "Name: Calories, Length: 15000, dtype: float64\n"
     ]
    }
   ],
   "source": [
    "print(Y)\n"
   ],
   "metadata": {
    "collapsed": false,
    "ExecuteTime": {
     "end_time": "2024-01-24T12:48:52.977192800Z",
     "start_time": "2024-01-24T12:48:52.962723800Z"
    }
   },
   "id": "b6dd93b0b2d7a9ad"
  },
  {
   "cell_type": "markdown",
   "source": [
    "Split data into training data and testing data"
   ],
   "metadata": {
    "collapsed": false
   },
   "id": "fad4eb7e62dc03f9"
  },
  {
   "cell_type": "code",
   "execution_count": 39,
   "outputs": [],
   "source": [
    "X_train, X_test, Y_train, Y_test = train_test_split(X, Y, test_size=0.2, random_state=2)"
   ],
   "metadata": {
    "collapsed": false,
    "ExecuteTime": {
     "end_time": "2024-01-24T12:48:54.920448300Z",
     "start_time": "2024-01-24T12:48:54.907390700Z"
    }
   },
   "id": "efb2bccc1b14f2ee"
  },
  {
   "cell_type": "code",
   "execution_count": 40,
   "outputs": [
    {
     "name": "stdout",
     "output_type": "stream",
     "text": [
      "(15000, 7) (12000, 7) (3000, 7)\n"
     ]
    }
   ],
   "source": [
    "print(X.shape, X_train.shape, X_test.shape)"
   ],
   "metadata": {
    "collapsed": false,
    "ExecuteTime": {
     "end_time": "2024-01-24T12:48:56.033269100Z",
     "start_time": "2024-01-24T12:48:56.014157500Z"
    }
   },
   "id": "53f123a92b825d6a"
  },
  {
   "cell_type": "markdown",
   "source": [
    "Model Training : XGBoost Regressor"
   ],
   "metadata": {
    "collapsed": false
   },
   "id": "7ac509cec661f4df"
  },
  {
   "cell_type": "code",
   "execution_count": 41,
   "outputs": [],
   "source": [
    "# loading the linear regression model\n",
    "model = XGBRegressor()"
   ],
   "metadata": {
    "collapsed": false,
    "ExecuteTime": {
     "end_time": "2024-01-24T12:48:57.908429800Z",
     "start_time": "2024-01-24T12:48:57.861785Z"
    }
   },
   "id": "47e7c6c4d5f027a0"
  },
  {
   "cell_type": "code",
   "execution_count": 42,
   "outputs": [
    {
     "data": {
      "text/plain": "XGBRegressor(base_score=None, booster=None, callbacks=None,\n             colsample_bylevel=None, colsample_bynode=None,\n             colsample_bytree=None, device=None, early_stopping_rounds=None,\n             enable_categorical=False, eval_metric=None, feature_types=None,\n             gamma=None, grow_policy=None, importance_type=None,\n             interaction_constraints=None, learning_rate=None, max_bin=None,\n             max_cat_threshold=None, max_cat_to_onehot=None,\n             max_delta_step=None, max_depth=None, max_leaves=None,\n             min_child_weight=None, missing=nan, monotone_constraints=None,\n             multi_strategy=None, n_estimators=None, n_jobs=None,\n             num_parallel_tree=None, random_state=None, ...)",
      "text/html": "<style>#sk-container-id-1 {color: black;background-color: white;}#sk-container-id-1 pre{padding: 0;}#sk-container-id-1 div.sk-toggleable {background-color: white;}#sk-container-id-1 label.sk-toggleable__label {cursor: pointer;display: block;width: 100%;margin-bottom: 0;padding: 0.3em;box-sizing: border-box;text-align: center;}#sk-container-id-1 label.sk-toggleable__label-arrow:before {content: \"▸\";float: left;margin-right: 0.25em;color: #696969;}#sk-container-id-1 label.sk-toggleable__label-arrow:hover:before {color: black;}#sk-container-id-1 div.sk-estimator:hover label.sk-toggleable__label-arrow:before {color: black;}#sk-container-id-1 div.sk-toggleable__content {max-height: 0;max-width: 0;overflow: hidden;text-align: left;background-color: #f0f8ff;}#sk-container-id-1 div.sk-toggleable__content pre {margin: 0.2em;color: black;border-radius: 0.25em;background-color: #f0f8ff;}#sk-container-id-1 input.sk-toggleable__control:checked~div.sk-toggleable__content {max-height: 200px;max-width: 100%;overflow: auto;}#sk-container-id-1 input.sk-toggleable__control:checked~label.sk-toggleable__label-arrow:before {content: \"▾\";}#sk-container-id-1 div.sk-estimator input.sk-toggleable__control:checked~label.sk-toggleable__label {background-color: #d4ebff;}#sk-container-id-1 div.sk-label input.sk-toggleable__control:checked~label.sk-toggleable__label {background-color: #d4ebff;}#sk-container-id-1 input.sk-hidden--visually {border: 0;clip: rect(1px 1px 1px 1px);clip: rect(1px, 1px, 1px, 1px);height: 1px;margin: -1px;overflow: hidden;padding: 0;position: absolute;width: 1px;}#sk-container-id-1 div.sk-estimator {font-family: monospace;background-color: #f0f8ff;border: 1px dotted black;border-radius: 0.25em;box-sizing: border-box;margin-bottom: 0.5em;}#sk-container-id-1 div.sk-estimator:hover {background-color: #d4ebff;}#sk-container-id-1 div.sk-parallel-item::after {content: \"\";width: 100%;border-bottom: 1px solid gray;flex-grow: 1;}#sk-container-id-1 div.sk-label:hover label.sk-toggleable__label {background-color: #d4ebff;}#sk-container-id-1 div.sk-serial::before {content: \"\";position: absolute;border-left: 1px solid gray;box-sizing: border-box;top: 0;bottom: 0;left: 50%;z-index: 0;}#sk-container-id-1 div.sk-serial {display: flex;flex-direction: column;align-items: center;background-color: white;padding-right: 0.2em;padding-left: 0.2em;position: relative;}#sk-container-id-1 div.sk-item {position: relative;z-index: 1;}#sk-container-id-1 div.sk-parallel {display: flex;align-items: stretch;justify-content: center;background-color: white;position: relative;}#sk-container-id-1 div.sk-item::before, #sk-container-id-1 div.sk-parallel-item::before {content: \"\";position: absolute;border-left: 1px solid gray;box-sizing: border-box;top: 0;bottom: 0;left: 50%;z-index: -1;}#sk-container-id-1 div.sk-parallel-item {display: flex;flex-direction: column;z-index: 1;position: relative;background-color: white;}#sk-container-id-1 div.sk-parallel-item:first-child::after {align-self: flex-end;width: 50%;}#sk-container-id-1 div.sk-parallel-item:last-child::after {align-self: flex-start;width: 50%;}#sk-container-id-1 div.sk-parallel-item:only-child::after {width: 0;}#sk-container-id-1 div.sk-dashed-wrapped {border: 1px dashed gray;margin: 0 0.4em 0.5em 0.4em;box-sizing: border-box;padding-bottom: 0.4em;background-color: white;}#sk-container-id-1 div.sk-label label {font-family: monospace;font-weight: bold;display: inline-block;line-height: 1.2em;}#sk-container-id-1 div.sk-label-container {text-align: center;}#sk-container-id-1 div.sk-container {/* jupyter's `normalize.less` sets `[hidden] { display: none; }` but bootstrap.min.css set `[hidden] { display: none !important; }` so we also need the `!important` here to be able to override the default hidden behavior on the sphinx rendered scikit-learn.org. See: https://github.com/scikit-learn/scikit-learn/issues/21755 */display: inline-block !important;position: relative;}#sk-container-id-1 div.sk-text-repr-fallback {display: none;}</style><div id=\"sk-container-id-1\" class=\"sk-top-container\"><div class=\"sk-text-repr-fallback\"><pre>XGBRegressor(base_score=None, booster=None, callbacks=None,\n             colsample_bylevel=None, colsample_bynode=None,\n             colsample_bytree=None, device=None, early_stopping_rounds=None,\n             enable_categorical=False, eval_metric=None, feature_types=None,\n             gamma=None, grow_policy=None, importance_type=None,\n             interaction_constraints=None, learning_rate=None, max_bin=None,\n             max_cat_threshold=None, max_cat_to_onehot=None,\n             max_delta_step=None, max_depth=None, max_leaves=None,\n             min_child_weight=None, missing=nan, monotone_constraints=None,\n             multi_strategy=None, n_estimators=None, n_jobs=None,\n             num_parallel_tree=None, random_state=None, ...)</pre><b>In a Jupyter environment, please rerun this cell to show the HTML representation or trust the notebook. <br />On GitHub, the HTML representation is unable to render, please try loading this page with nbviewer.org.</b></div><div class=\"sk-container\" hidden><div class=\"sk-item\"><div class=\"sk-estimator sk-toggleable\"><input class=\"sk-toggleable__control sk-hidden--visually\" id=\"sk-estimator-id-1\" type=\"checkbox\" checked><label for=\"sk-estimator-id-1\" class=\"sk-toggleable__label sk-toggleable__label-arrow\">XGBRegressor</label><div class=\"sk-toggleable__content\"><pre>XGBRegressor(base_score=None, booster=None, callbacks=None,\n             colsample_bylevel=None, colsample_bynode=None,\n             colsample_bytree=None, device=None, early_stopping_rounds=None,\n             enable_categorical=False, eval_metric=None, feature_types=None,\n             gamma=None, grow_policy=None, importance_type=None,\n             interaction_constraints=None, learning_rate=None, max_bin=None,\n             max_cat_threshold=None, max_cat_to_onehot=None,\n             max_delta_step=None, max_depth=None, max_leaves=None,\n             min_child_weight=None, missing=nan, monotone_constraints=None,\n             multi_strategy=None, n_estimators=None, n_jobs=None,\n             num_parallel_tree=None, random_state=None, ...)</pre></div></div></div></div></div>"
     },
     "execution_count": 42,
     "metadata": {},
     "output_type": "execute_result"
    }
   ],
   "source": [
    "model.fit(X_train, Y_train)"
   ],
   "metadata": {
    "collapsed": false,
    "ExecuteTime": {
     "end_time": "2024-01-24T12:49:00.097272600Z",
     "start_time": "2024-01-24T12:48:59.937595200Z"
    }
   },
   "id": "a83034f68cf60de9"
  },
  {
   "cell_type": "markdown",
   "source": [
    "Model evaluation"
   ],
   "metadata": {
    "collapsed": false
   },
   "id": "746b9de98e308fdc"
  },
  {
   "cell_type": "code",
   "execution_count": 43,
   "outputs": [],
   "source": [
    "test_data_prediction  = model.predict(X_test)"
   ],
   "metadata": {
    "collapsed": false,
    "ExecuteTime": {
     "end_time": "2024-01-24T12:50:22.710112100Z",
     "start_time": "2024-01-24T12:50:22.655564100Z"
    }
   },
   "id": "4270303ad9fac9a4"
  },
  {
   "cell_type": "code",
   "execution_count": 44,
   "outputs": [
    {
     "name": "stdout",
     "output_type": "stream",
     "text": [
      "[125.58828  222.11377   38.725952 ... 144.3179    23.425894  90.100494]\n"
     ]
    }
   ],
   "source": [
    "print(test_data_prediction)"
   ],
   "metadata": {
    "collapsed": false,
    "ExecuteTime": {
     "end_time": "2024-01-24T12:50:38.047400700Z",
     "start_time": "2024-01-24T12:50:38.033395800Z"
    }
   },
   "id": "1eb411f22861e968"
  },
  {
   "cell_type": "code",
   "execution_count": 85,
   "outputs": [],
   "source": [
    "test_data_prediction  = model.predict(X_test)"
   ],
   "metadata": {
    "collapsed": false,
    "ExecuteTime": {
     "end_time": "2024-01-24T11:46:45.593176900Z",
     "start_time": "2024-01-24T11:46:45.567618Z"
    }
   },
   "id": "c3a25b56d3b37e4"
  },
  {
   "cell_type": "markdown",
   "source": [
    "Mean absolute error"
   ],
   "metadata": {
    "collapsed": false
   },
   "id": "e0ddd04971a22caa"
  },
  {
   "cell_type": "code",
   "execution_count": 45,
   "outputs": [
    {
     "name": "stdout",
     "output_type": "stream",
     "text": [
      "Mean absolute error =  1.4833678883314132\n"
     ]
    }
   ],
   "source": [
    "mean = metrics.mean_absolute_error(Y_test, test_data_prediction)\n",
    "print('Mean absolute error = ', mean)"
   ],
   "metadata": {
    "collapsed": false,
    "ExecuteTime": {
     "end_time": "2024-01-24T12:52:29.387357800Z",
     "start_time": "2024-01-24T12:52:29.359145500Z"
    }
   },
   "id": "6a0e9a7a83cd51e9"
  },
  {
   "cell_type": "code",
   "execution_count": null,
   "outputs": [],
   "source": [],
   "metadata": {
    "collapsed": false
   },
   "id": "a8219169c0722ccb"
  }
 ],
 "metadata": {
  "kernelspec": {
   "display_name": "Python 3",
   "language": "python",
   "name": "python3"
  },
  "language_info": {
   "codemirror_mode": {
    "name": "ipython",
    "version": 2
   },
   "file_extension": ".py",
   "mimetype": "text/x-python",
   "name": "python",
   "nbconvert_exporter": "python",
   "pygments_lexer": "ipython2",
   "version": "2.7.6"
  }
 },
 "nbformat": 4,
 "nbformat_minor": 5
}
